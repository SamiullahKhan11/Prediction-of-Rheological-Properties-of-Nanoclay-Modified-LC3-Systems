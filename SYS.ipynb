{
 "cells": [
  {
   "cell_type": "code",
   "execution_count": 7,
   "id": "0fadc70a-622f-4e48-9cea-75b5d008157c",
   "metadata": {},
   "outputs": [
    {
     "name": "stdout",
     "output_type": "stream",
     "text": [
      "Model trained and saved as GUI_SYS.joblib\n"
     ]
    }
   ],
   "source": [
    "import pandas as pd\n",
    "from sklearn.ensemble import RandomForestRegressor\n",
    "from sklearn.model_selection import GridSearchCV, train_test_split\n",
    "from sklearn.metrics import mean_squared_error, r2_score, mean_absolute_error\n",
    "import numpy as np\n",
    "import joblib  # Use joblib for model saving\n",
    "\n",
    "# Load your dataset\n",
    "df = pd.read_csv(\"SYS.csv\")\n",
    "\n",
    "# Define features and target\n",
    "X = df.drop(\"SYS (Pa)\", axis=1)\n",
    "y = df[\"SYS (Pa)\"]\n",
    "\n",
    "# Train-test split (70% train, 30% test)\n",
    "X_train, X_test, y_train, y_test = train_test_split(X, y, test_size=0.3, random_state=22)\n",
    "\n",
    "# Base model\n",
    "model = RandomForestRegressor(random_state=31)\n",
    "\n",
    "# Parameter grid for RandomForestRegressor\n",
    "param_grid = {\n",
    "    'n_estimators': [200],\n",
    "    'max_depth': [10],\n",
    "    'min_samples_split': [2],\n",
    "    'min_samples_leaf': [1]\n",
    "}\n",
    "\n",
    "# Grid search for best model\n",
    "grid_search = GridSearchCV(model, param_grid, cv=5, scoring='neg_mean_squared_error', n_jobs=-1)\n",
    "grid_search.fit(X_train, y_train)\n",
    "\n",
    "# Best estimator\n",
    "best_model_SYS = grid_search.best_estimator_\n",
    "\n",
    "# Save the fitted model to disk\n",
    "joblib.dump(best_model_SYS, \"GUI_SYS.joblib\")\n",
    "\n",
    "print(\"Model trained and saved as GUI_SYS.joblib\")"
   ]
  },
  {
   "cell_type": "code",
   "execution_count": null,
   "id": "903b2854-49a2-47e5-b96d-28d76fc8130c",
   "metadata": {},
   "outputs": [],
   "source": []
  }
 ],
 "metadata": {
  "kernelspec": {
   "display_name": "Python 3 (ipykernel)",
   "language": "python",
   "name": "python3"
  },
  "language_info": {
   "codemirror_mode": {
    "name": "ipython",
    "version": 3
   },
   "file_extension": ".py",
   "mimetype": "text/x-python",
   "name": "python",
   "nbconvert_exporter": "python",
   "pygments_lexer": "ipython3",
   "version": "3.12.7"
  }
 },
 "nbformat": 4,
 "nbformat_minor": 5
}
